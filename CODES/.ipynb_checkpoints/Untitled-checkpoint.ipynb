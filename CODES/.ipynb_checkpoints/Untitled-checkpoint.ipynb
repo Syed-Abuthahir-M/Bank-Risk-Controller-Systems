{
 "cells": [
  {
   "cell_type": "code",
   "execution_count": 32,
   "id": "f10ccd9b-8695-41c6-9d1e-fb0520ad1745",
   "metadata": {},
   "outputs": [],
   "source": [
    "import pandas as pd\n",
    "from sklearn.preprocessing import LabelEncoder, MinMaxScaler\n",
    "from sklearn.model_selection import train_test_split, GridSearchCV, RandomizedSearchCV\n",
    "from sklearn.linear_model import LogisticRegression\n",
    "from sklearn.tree import DecisionTreeClassifier\n",
    "from sklearn.ensemble import RandomForestClassifier, GradientBoostingClassifier\n",
    "from xgboost import XGBClassifier\n",
    "from sklearn.metrics import accuracy_score, recall_score, f1_score, precision_score\n",
    "\n",
    "from imblearn.over_sampling import SMOTE, RandomOverSampler"
   ]
  },
  {
   "cell_type": "code",
   "execution_count": 33,
   "id": "513a9b30-954c-4634-89b2-5b29d50ad45b",
   "metadata": {},
   "outputs": [],
   "source": [
    "pd.set_option(\"display.max_columns\", None)\n",
    "pd.set_option(\"display.max_rows\", None)"
   ]
  },
  {
   "cell_type": "code",
   "execution_count": 34,
   "id": "3840946a-8647-46ff-979b-04871c3d9e2e",
   "metadata": {},
   "outputs": [],
   "source": [
    "def get_perform(actual, predict):\n",
    "    acc_score = accuracy_score(actual, predict)\n",
    "    prec_score = precision_score(actual, predict,average='macro')\n",
    "    rec_score = recall_score(actual, predict,average='macro')\n",
    "    f1 = f1_score(actual, predict, average='macro')\n",
    "    return pd.DataFrame({\n",
    "        \"accuracy_score\":[acc_score],\n",
    "        \"precision_score\":[prec_score],\n",
    "        \"recall_score\": [rec_score],\n",
    "        \"f1_score\":[f1]\n",
    "    })"
   ]
  },
  {
   "cell_type": "code",
   "execution_count": 35,
   "id": "0bc4c87b-90ea-48c4-ac2d-880f8e4197f9",
   "metadata": {},
   "outputs": [
    {
     "name": "stderr",
     "output_type": "stream",
     "text": [
      "<>:1: SyntaxWarning: invalid escape sequence '\\G'\n",
      "<>:1: SyntaxWarning: invalid escape sequence '\\G'\n",
      "C:\\Users\\syeda\\AppData\\Local\\Temp\\ipykernel_7148\\1217478590.py:1: SyntaxWarning: invalid escape sequence '\\G'\n",
      "  data = pd.read_csv(\"F:\\GUVI\\Project\\FINAL PROJECT\\Final_cleaned_data.csv\")\n"
     ]
    }
   ],
   "source": [
    "data = pd.read_csv(\"F:\\GUVI\\Project\\FINAL PROJECT\\Final_cleaned_data.csv\")"
   ]
  },
  {
   "cell_type": "code",
   "execution_count": 36,
   "id": "18766d83-8310-44df-8175-77b126ef1696",
   "metadata": {},
   "outputs": [
    {
     "data": {
      "text/html": [
       "<div>\n",
       "<style scoped>\n",
       "    .dataframe tbody tr th:only-of-type {\n",
       "        vertical-align: middle;\n",
       "    }\n",
       "\n",
       "    .dataframe tbody tr th {\n",
       "        vertical-align: top;\n",
       "    }\n",
       "\n",
       "    .dataframe thead th {\n",
       "        text-align: right;\n",
       "    }\n",
       "</style>\n",
       "<table border=\"1\" class=\"dataframe\">\n",
       "  <thead>\n",
       "    <tr style=\"text-align: right;\">\n",
       "      <th></th>\n",
       "      <th>TARGET</th>\n",
       "      <th>NAME_CONTRACT_TYPE_x</th>\n",
       "      <th>CODE_GENDER</th>\n",
       "      <th>AMT_INCOME_TOTAL</th>\n",
       "      <th>AMT_CREDIT_x</th>\n",
       "      <th>AMT_ANNUITY_x</th>\n",
       "      <th>AMT_GOODS_PRICE_x</th>\n",
       "      <th>NAME_INCOME_TYPE</th>\n",
       "      <th>FLAG_MOBIL</th>\n",
       "      <th>FLAG_CONT_MOBILE</th>\n",
       "      <th>FLAG_EMAIL</th>\n",
       "      <th>OCCUPATION_TYPE</th>\n",
       "      <th>ORGANIZATION_TYPE</th>\n",
       "      <th>OBS_30_CNT_SOCIAL_CIRCLE</th>\n",
       "      <th>DEF_30_CNT_SOCIAL_CIRCLE</th>\n",
       "      <th>OBS_60_CNT_SOCIAL_CIRCLE</th>\n",
       "      <th>DEF_60_CNT_SOCIAL_CIRCLE</th>\n",
       "      <th>AMT_REQ_CREDIT_BUREAU_HOUR</th>\n",
       "      <th>AMT_REQ_CREDIT_BUREAU_DAY</th>\n",
       "      <th>AMT_REQ_CREDIT_BUREAU_WEEK</th>\n",
       "      <th>AMT_REQ_CREDIT_BUREAU_MON</th>\n",
       "      <th>AMT_REQ_CREDIT_BUREAU_QRT</th>\n",
       "      <th>AMT_REQ_CREDIT_BUREAU_YEAR</th>\n",
       "      <th>AMT_ANNUITY_y</th>\n",
       "      <th>AMT_APPLICATION</th>\n",
       "      <th>AMT_CREDIT_y</th>\n",
       "      <th>AMT_GOODS_PRICE_y</th>\n",
       "      <th>FLAG_LAST_APPL_PER_CONTRACT</th>\n",
       "      <th>NAME_CONTRACT_STATUS</th>\n",
       "      <th>NFLAG_INSURED_ON_APPROVAL</th>\n",
       "      <th>DAYS_BIRTH_YEARS</th>\n",
       "      <th>DAYS_EMPLOYED_YEARS</th>\n",
       "      <th>DAYS_REGISTRATION_YEARS</th>\n",
       "      <th>DAYS_ID_PUBLISH_YEARS</th>\n",
       "      <th>DAYS_LAST_PHONE_CHANGE_YEARS</th>\n",
       "      <th>DAYS_DECISION_YEARS</th>\n",
       "    </tr>\n",
       "  </thead>\n",
       "  <tbody>\n",
       "    <tr>\n",
       "      <th>0</th>\n",
       "      <td>1</td>\n",
       "      <td>Cash loans</td>\n",
       "      <td>M</td>\n",
       "      <td>202500.0</td>\n",
       "      <td>406597.5</td>\n",
       "      <td>24700.5</td>\n",
       "      <td>351000.0</td>\n",
       "      <td>Working</td>\n",
       "      <td>1</td>\n",
       "      <td>1</td>\n",
       "      <td>0</td>\n",
       "      <td>Laborers</td>\n",
       "      <td>Business Entity Type 3</td>\n",
       "      <td>2.0</td>\n",
       "      <td>2.0</td>\n",
       "      <td>2.0</td>\n",
       "      <td>2.0</td>\n",
       "      <td>0.0</td>\n",
       "      <td>0.0</td>\n",
       "      <td>0.0</td>\n",
       "      <td>0.0</td>\n",
       "      <td>0.0</td>\n",
       "      <td>1.0</td>\n",
       "      <td>9251.775</td>\n",
       "      <td>179055.0</td>\n",
       "      <td>179055.0</td>\n",
       "      <td>179055.0</td>\n",
       "      <td>Y</td>\n",
       "      <td>Approved</td>\n",
       "      <td>0.0</td>\n",
       "      <td>25.9</td>\n",
       "      <td>1.7</td>\n",
       "      <td>10.0</td>\n",
       "      <td>5.8</td>\n",
       "      <td>3.1</td>\n",
       "      <td>1.7</td>\n",
       "    </tr>\n",
       "    <tr>\n",
       "      <th>1</th>\n",
       "      <td>0</td>\n",
       "      <td>Cash loans</td>\n",
       "      <td>F</td>\n",
       "      <td>270000.0</td>\n",
       "      <td>1293502.5</td>\n",
       "      <td>35698.5</td>\n",
       "      <td>1129500.0</td>\n",
       "      <td>State servant</td>\n",
       "      <td>1</td>\n",
       "      <td>1</td>\n",
       "      <td>0</td>\n",
       "      <td>Core staff</td>\n",
       "      <td>School</td>\n",
       "      <td>1.0</td>\n",
       "      <td>0.0</td>\n",
       "      <td>1.0</td>\n",
       "      <td>0.0</td>\n",
       "      <td>0.0</td>\n",
       "      <td>0.0</td>\n",
       "      <td>0.0</td>\n",
       "      <td>0.0</td>\n",
       "      <td>0.0</td>\n",
       "      <td>0.0</td>\n",
       "      <td>98356.995</td>\n",
       "      <td>900000.0</td>\n",
       "      <td>1035882.0</td>\n",
       "      <td>900000.0</td>\n",
       "      <td>Y</td>\n",
       "      <td>Approved</td>\n",
       "      <td>1.0</td>\n",
       "      <td>45.9</td>\n",
       "      <td>3.3</td>\n",
       "      <td>3.2</td>\n",
       "      <td>0.8</td>\n",
       "      <td>2.3</td>\n",
       "      <td>2.0</td>\n",
       "    </tr>\n",
       "    <tr>\n",
       "      <th>2</th>\n",
       "      <td>0</td>\n",
       "      <td>Cash loans</td>\n",
       "      <td>F</td>\n",
       "      <td>270000.0</td>\n",
       "      <td>1293502.5</td>\n",
       "      <td>35698.5</td>\n",
       "      <td>1129500.0</td>\n",
       "      <td>State servant</td>\n",
       "      <td>1</td>\n",
       "      <td>1</td>\n",
       "      <td>0</td>\n",
       "      <td>Core staff</td>\n",
       "      <td>School</td>\n",
       "      <td>1.0</td>\n",
       "      <td>0.0</td>\n",
       "      <td>1.0</td>\n",
       "      <td>0.0</td>\n",
       "      <td>0.0</td>\n",
       "      <td>0.0</td>\n",
       "      <td>0.0</td>\n",
       "      <td>0.0</td>\n",
       "      <td>0.0</td>\n",
       "      <td>0.0</td>\n",
       "      <td>64567.665</td>\n",
       "      <td>337500.0</td>\n",
       "      <td>348637.5</td>\n",
       "      <td>337500.0</td>\n",
       "      <td>Y</td>\n",
       "      <td>Approved</td>\n",
       "      <td>0.0</td>\n",
       "      <td>45.9</td>\n",
       "      <td>3.3</td>\n",
       "      <td>3.2</td>\n",
       "      <td>0.8</td>\n",
       "      <td>2.3</td>\n",
       "      <td>2.3</td>\n",
       "    </tr>\n",
       "    <tr>\n",
       "      <th>3</th>\n",
       "      <td>0</td>\n",
       "      <td>Cash loans</td>\n",
       "      <td>F</td>\n",
       "      <td>270000.0</td>\n",
       "      <td>1293502.5</td>\n",
       "      <td>35698.5</td>\n",
       "      <td>1129500.0</td>\n",
       "      <td>State servant</td>\n",
       "      <td>1</td>\n",
       "      <td>1</td>\n",
       "      <td>0</td>\n",
       "      <td>Core staff</td>\n",
       "      <td>School</td>\n",
       "      <td>1.0</td>\n",
       "      <td>0.0</td>\n",
       "      <td>1.0</td>\n",
       "      <td>0.0</td>\n",
       "      <td>0.0</td>\n",
       "      <td>0.0</td>\n",
       "      <td>0.0</td>\n",
       "      <td>0.0</td>\n",
       "      <td>0.0</td>\n",
       "      <td>0.0</td>\n",
       "      <td>6737.310</td>\n",
       "      <td>68809.5</td>\n",
       "      <td>68053.5</td>\n",
       "      <td>68809.5</td>\n",
       "      <td>Y</td>\n",
       "      <td>Approved</td>\n",
       "      <td>1.0</td>\n",
       "      <td>45.9</td>\n",
       "      <td>3.3</td>\n",
       "      <td>3.2</td>\n",
       "      <td>0.8</td>\n",
       "      <td>2.3</td>\n",
       "      <td>6.4</td>\n",
       "    </tr>\n",
       "    <tr>\n",
       "      <th>4</th>\n",
       "      <td>0</td>\n",
       "      <td>Revolving loans</td>\n",
       "      <td>M</td>\n",
       "      <td>67500.0</td>\n",
       "      <td>135000.0</td>\n",
       "      <td>6750.0</td>\n",
       "      <td>135000.0</td>\n",
       "      <td>Working</td>\n",
       "      <td>1</td>\n",
       "      <td>1</td>\n",
       "      <td>0</td>\n",
       "      <td>Laborers</td>\n",
       "      <td>Government</td>\n",
       "      <td>0.0</td>\n",
       "      <td>0.0</td>\n",
       "      <td>0.0</td>\n",
       "      <td>0.0</td>\n",
       "      <td>0.0</td>\n",
       "      <td>0.0</td>\n",
       "      <td>0.0</td>\n",
       "      <td>0.0</td>\n",
       "      <td>0.0</td>\n",
       "      <td>0.0</td>\n",
       "      <td>5357.250</td>\n",
       "      <td>24282.0</td>\n",
       "      <td>20106.0</td>\n",
       "      <td>24282.0</td>\n",
       "      <td>Y</td>\n",
       "      <td>Approved</td>\n",
       "      <td>0.0</td>\n",
       "      <td>52.1</td>\n",
       "      <td>0.6</td>\n",
       "      <td>11.7</td>\n",
       "      <td>6.9</td>\n",
       "      <td>2.2</td>\n",
       "      <td>2.2</td>\n",
       "    </tr>\n",
       "  </tbody>\n",
       "</table>\n",
       "</div>"
      ],
      "text/plain": [
       "   TARGET NAME_CONTRACT_TYPE_x CODE_GENDER  AMT_INCOME_TOTAL  AMT_CREDIT_x  \\\n",
       "0       1           Cash loans           M          202500.0      406597.5   \n",
       "1       0           Cash loans           F          270000.0     1293502.5   \n",
       "2       0           Cash loans           F          270000.0     1293502.5   \n",
       "3       0           Cash loans           F          270000.0     1293502.5   \n",
       "4       0      Revolving loans           M           67500.0      135000.0   \n",
       "\n",
       "   AMT_ANNUITY_x  AMT_GOODS_PRICE_x NAME_INCOME_TYPE  FLAG_MOBIL  \\\n",
       "0        24700.5           351000.0          Working           1   \n",
       "1        35698.5          1129500.0    State servant           1   \n",
       "2        35698.5          1129500.0    State servant           1   \n",
       "3        35698.5          1129500.0    State servant           1   \n",
       "4         6750.0           135000.0          Working           1   \n",
       "\n",
       "   FLAG_CONT_MOBILE  FLAG_EMAIL OCCUPATION_TYPE       ORGANIZATION_TYPE  \\\n",
       "0                 1           0        Laborers  Business Entity Type 3   \n",
       "1                 1           0      Core staff                  School   \n",
       "2                 1           0      Core staff                  School   \n",
       "3                 1           0      Core staff                  School   \n",
       "4                 1           0        Laborers              Government   \n",
       "\n",
       "   OBS_30_CNT_SOCIAL_CIRCLE  DEF_30_CNT_SOCIAL_CIRCLE  \\\n",
       "0                       2.0                       2.0   \n",
       "1                       1.0                       0.0   \n",
       "2                       1.0                       0.0   \n",
       "3                       1.0                       0.0   \n",
       "4                       0.0                       0.0   \n",
       "\n",
       "   OBS_60_CNT_SOCIAL_CIRCLE  DEF_60_CNT_SOCIAL_CIRCLE  \\\n",
       "0                       2.0                       2.0   \n",
       "1                       1.0                       0.0   \n",
       "2                       1.0                       0.0   \n",
       "3                       1.0                       0.0   \n",
       "4                       0.0                       0.0   \n",
       "\n",
       "   AMT_REQ_CREDIT_BUREAU_HOUR  AMT_REQ_CREDIT_BUREAU_DAY  \\\n",
       "0                         0.0                        0.0   \n",
       "1                         0.0                        0.0   \n",
       "2                         0.0                        0.0   \n",
       "3                         0.0                        0.0   \n",
       "4                         0.0                        0.0   \n",
       "\n",
       "   AMT_REQ_CREDIT_BUREAU_WEEK  AMT_REQ_CREDIT_BUREAU_MON  \\\n",
       "0                         0.0                        0.0   \n",
       "1                         0.0                        0.0   \n",
       "2                         0.0                        0.0   \n",
       "3                         0.0                        0.0   \n",
       "4                         0.0                        0.0   \n",
       "\n",
       "   AMT_REQ_CREDIT_BUREAU_QRT  AMT_REQ_CREDIT_BUREAU_YEAR  AMT_ANNUITY_y  \\\n",
       "0                        0.0                         1.0       9251.775   \n",
       "1                        0.0                         0.0      98356.995   \n",
       "2                        0.0                         0.0      64567.665   \n",
       "3                        0.0                         0.0       6737.310   \n",
       "4                        0.0                         0.0       5357.250   \n",
       "\n",
       "   AMT_APPLICATION  AMT_CREDIT_y  AMT_GOODS_PRICE_y  \\\n",
       "0         179055.0      179055.0           179055.0   \n",
       "1         900000.0     1035882.0           900000.0   \n",
       "2         337500.0      348637.5           337500.0   \n",
       "3          68809.5       68053.5            68809.5   \n",
       "4          24282.0       20106.0            24282.0   \n",
       "\n",
       "  FLAG_LAST_APPL_PER_CONTRACT NAME_CONTRACT_STATUS  NFLAG_INSURED_ON_APPROVAL  \\\n",
       "0                           Y             Approved                        0.0   \n",
       "1                           Y             Approved                        1.0   \n",
       "2                           Y             Approved                        0.0   \n",
       "3                           Y             Approved                        1.0   \n",
       "4                           Y             Approved                        0.0   \n",
       "\n",
       "   DAYS_BIRTH_YEARS  DAYS_EMPLOYED_YEARS  DAYS_REGISTRATION_YEARS  \\\n",
       "0              25.9                  1.7                     10.0   \n",
       "1              45.9                  3.3                      3.2   \n",
       "2              45.9                  3.3                      3.2   \n",
       "3              45.9                  3.3                      3.2   \n",
       "4              52.1                  0.6                     11.7   \n",
       "\n",
       "   DAYS_ID_PUBLISH_YEARS  DAYS_LAST_PHONE_CHANGE_YEARS  DAYS_DECISION_YEARS  \n",
       "0                    5.8                           3.1                  1.7  \n",
       "1                    0.8                           2.3                  2.0  \n",
       "2                    0.8                           2.3                  2.3  \n",
       "3                    0.8                           2.3                  6.4  \n",
       "4                    6.9                           2.2                  2.2  "
      ]
     },
     "execution_count": 36,
     "metadata": {},
     "output_type": "execute_result"
    }
   ],
   "source": [
    "data.head()"
   ]
  },
  {
   "cell_type": "code",
   "execution_count": 37,
   "id": "bac580df-d9dd-4b31-94d4-caefdb8d9e6a",
   "metadata": {},
   "outputs": [
    {
     "data": {
      "text/plain": [
       "False    1303167\n",
       "Name: count, dtype: int64"
      ]
     },
     "execution_count": 37,
     "metadata": {},
     "output_type": "execute_result"
    }
   ],
   "source": [
    "data.duplicated().value_counts()"
   ]
  },
  {
   "cell_type": "code",
   "execution_count": 38,
   "id": "64f5780a-1de6-413e-bc5a-f64e9918f9d3",
   "metadata": {},
   "outputs": [
    {
     "name": "stdout",
     "output_type": "stream",
     "text": [
      "<class 'pandas.core.frame.DataFrame'>\n",
      "RangeIndex: 1303167 entries, 0 to 1303166\n",
      "Data columns (total 36 columns):\n",
      " #   Column                        Non-Null Count    Dtype  \n",
      "---  ------                        --------------    -----  \n",
      " 0   TARGET                        1303167 non-null  int64  \n",
      " 1   NAME_CONTRACT_TYPE_x          1303167 non-null  object \n",
      " 2   CODE_GENDER                   1303167 non-null  object \n",
      " 3   AMT_INCOME_TOTAL              1303167 non-null  float64\n",
      " 4   AMT_CREDIT_x                  1303167 non-null  float64\n",
      " 5   AMT_ANNUITY_x                 1303167 non-null  float64\n",
      " 6   AMT_GOODS_PRICE_x             1303167 non-null  float64\n",
      " 7   NAME_INCOME_TYPE              1303167 non-null  object \n",
      " 8   FLAG_MOBIL                    1303167 non-null  int64  \n",
      " 9   FLAG_CONT_MOBILE              1303167 non-null  int64  \n",
      " 10  FLAG_EMAIL                    1303167 non-null  int64  \n",
      " 11  OCCUPATION_TYPE               1303167 non-null  object \n",
      " 12  ORGANIZATION_TYPE             1303167 non-null  object \n",
      " 13  OBS_30_CNT_SOCIAL_CIRCLE      1303167 non-null  float64\n",
      " 14  DEF_30_CNT_SOCIAL_CIRCLE      1303167 non-null  float64\n",
      " 15  OBS_60_CNT_SOCIAL_CIRCLE      1303167 non-null  float64\n",
      " 16  DEF_60_CNT_SOCIAL_CIRCLE      1303167 non-null  float64\n",
      " 17  AMT_REQ_CREDIT_BUREAU_HOUR    1303167 non-null  float64\n",
      " 18  AMT_REQ_CREDIT_BUREAU_DAY     1303167 non-null  float64\n",
      " 19  AMT_REQ_CREDIT_BUREAU_WEEK    1303167 non-null  float64\n",
      " 20  AMT_REQ_CREDIT_BUREAU_MON     1303167 non-null  float64\n",
      " 21  AMT_REQ_CREDIT_BUREAU_QRT     1303167 non-null  float64\n",
      " 22  AMT_REQ_CREDIT_BUREAU_YEAR    1303167 non-null  float64\n",
      " 23  AMT_ANNUITY_y                 1303167 non-null  float64\n",
      " 24  AMT_APPLICATION               1303167 non-null  float64\n",
      " 25  AMT_CREDIT_y                  1303167 non-null  float64\n",
      " 26  AMT_GOODS_PRICE_y             1303167 non-null  float64\n",
      " 27  FLAG_LAST_APPL_PER_CONTRACT   1303167 non-null  object \n",
      " 28  NAME_CONTRACT_STATUS          1303167 non-null  object \n",
      " 29  NFLAG_INSURED_ON_APPROVAL     1303167 non-null  float64\n",
      " 30  DAYS_BIRTH_YEARS              1303167 non-null  float64\n",
      " 31  DAYS_EMPLOYED_YEARS           1303167 non-null  float64\n",
      " 32  DAYS_REGISTRATION_YEARS       1303167 non-null  float64\n",
      " 33  DAYS_ID_PUBLISH_YEARS         1303167 non-null  float64\n",
      " 34  DAYS_LAST_PHONE_CHANGE_YEARS  1303167 non-null  float64\n",
      " 35  DAYS_DECISION_YEARS           1303167 non-null  float64\n",
      "dtypes: float64(25), int64(4), object(7)\n",
      "memory usage: 357.9+ MB\n"
     ]
    }
   ],
   "source": [
    "data.info()"
   ]
  },
  {
   "cell_type": "code",
   "execution_count": 39,
   "id": "bc48b061-c7cd-4767-8b07-57f8def7368c",
   "metadata": {},
   "outputs": [],
   "source": [
    "data.drop(\"ORGANIZATION_TYPE\", axis=1, inplace=True)"
   ]
  },
  {
   "cell_type": "code",
   "execution_count": 40,
   "id": "36bfec18-66b5-4d62-be82-c29ea866fc97",
   "metadata": {},
   "outputs": [],
   "source": [
    "corr_cols = ['AMT_ANNUITY_x', 'AMT_GOODS_PRICE_x','OBS_60_CNT_SOCIAL_CIRCLE','DEF_60_CNT_SOCIAL_CIRCLE','AMT_APPLICATION','AMT_GOODS_PRICE_y']"
   ]
  },
  {
   "cell_type": "code",
   "execution_count": 41,
   "id": "aee71c88-fb49-470d-a14e-d4fa20a592ac",
   "metadata": {},
   "outputs": [],
   "source": [
    "data.drop(corr_cols, axis=1, inplace=True)"
   ]
  },
  {
   "cell_type": "code",
   "execution_count": 42,
   "id": "69572fe8-de29-45c9-94cd-4895f3b3c7ba",
   "metadata": {},
   "outputs": [
    {
     "data": {
      "text/plain": [
       "(1303167, 29)"
      ]
     },
     "execution_count": 42,
     "metadata": {},
     "output_type": "execute_result"
    }
   ],
   "source": [
    "data.shape"
   ]
  },
  {
   "cell_type": "code",
   "execution_count": 43,
   "id": "7096b92b-bee4-4266-ace4-350705e29653",
   "metadata": {},
   "outputs": [],
   "source": [
    "unwanted_cols = [\"NAME_INCOME_TYPE\", \"FLAG_CONT_MOBILE\", \"AMT_CREDIT_y\", \"DAYS_REGISTRATION_YEARS\", \"DAYS_ID_PUBLISH_YEARS\",\n",
    "        \"DAYS_DECISION_YEARS\" , \"AMT_REQ_CREDIT_BUREAU_HOUR\", \"AMT_REQ_CREDIT_BUREAU_DAY\", \"AMT_REQ_CREDIT_BUREAU_WEEK\",\n",
    "        \"AMT_REQ_CREDIT_BUREAU_MON\"]"
   ]
  },
  {
   "cell_type": "code",
   "execution_count": 44,
   "id": "1b8d2adf-fb01-446e-8d65-610410b545bf",
   "metadata": {},
   "outputs": [],
   "source": [
    "data.drop(unwanted_cols, axis=1, inplace=True)"
   ]
  },
  {
   "cell_type": "code",
   "execution_count": 45,
   "id": "cbb8e810-2126-4193-87db-1006a4b84a5e",
   "metadata": {},
   "outputs": [
    {
     "data": {
      "text/plain": [
       "(1303167, 19)"
      ]
     },
     "execution_count": 45,
     "metadata": {},
     "output_type": "execute_result"
    }
   ],
   "source": [
    "data.shape"
   ]
  },
  {
   "cell_type": "code",
   "execution_count": 46,
   "id": "3a73f7e8-4fdf-411b-a99d-fd918dcc8ad4",
   "metadata": {},
   "outputs": [
    {
     "data": {
      "text/plain": [
       "Index(['TARGET', 'NAME_CONTRACT_TYPE_x', 'CODE_GENDER', 'AMT_INCOME_TOTAL',\n",
       "       'AMT_CREDIT_x', 'FLAG_MOBIL', 'FLAG_EMAIL', 'OCCUPATION_TYPE',\n",
       "       'OBS_30_CNT_SOCIAL_CIRCLE', 'DEF_30_CNT_SOCIAL_CIRCLE',\n",
       "       'AMT_REQ_CREDIT_BUREAU_QRT', 'AMT_REQ_CREDIT_BUREAU_YEAR',\n",
       "       'AMT_ANNUITY_y', 'FLAG_LAST_APPL_PER_CONTRACT', 'NAME_CONTRACT_STATUS',\n",
       "       'NFLAG_INSURED_ON_APPROVAL', 'DAYS_BIRTH_YEARS', 'DAYS_EMPLOYED_YEARS',\n",
       "       'DAYS_LAST_PHONE_CHANGE_YEARS'],\n",
       "      dtype='object')"
      ]
     },
     "execution_count": 46,
     "metadata": {},
     "output_type": "execute_result"
    }
   ],
   "source": [
    "data.columns"
   ]
  },
  {
   "cell_type": "code",
   "execution_count": 47,
   "id": "7e121485-b0d6-403f-bab0-2bd07d8a261c",
   "metadata": {},
   "outputs": [],
   "source": [
    "less_imp_features = ['NAME_CONTRACT_TYPE_x', 'CODE_GENDER','FLAG_MOBIL', 'FLAG_EMAIL','DEF_30_CNT_SOCIAL_CIRCLE','AMT_REQ_CREDIT_BUREAU_QRT', \n",
    " 'FLAG_LAST_APPL_PER_CONTRACT', 'NAME_CONTRACT_STATUS']"
   ]
  },
  {
   "cell_type": "code",
   "execution_count": 48,
   "id": "6afae039-58c1-4974-8460-d1e103b574d4",
   "metadata": {},
   "outputs": [
    {
     "data": {
      "text/plain": [
       "8"
      ]
     },
     "execution_count": 48,
     "metadata": {},
     "output_type": "execute_result"
    }
   ],
   "source": [
    "len(less_imp_features)"
   ]
  },
  {
   "cell_type": "code",
   "execution_count": 49,
   "id": "954e49c2-cf7e-4857-b8a8-40cf6aa08303",
   "metadata": {},
   "outputs": [],
   "source": [
    "data.drop(less_imp_features, axis=1, inplace=True)"
   ]
  },
  {
   "cell_type": "code",
   "execution_count": 50,
   "id": "8ba3a4f9-23ea-442a-b224-ba4e408c8658",
   "metadata": {},
   "outputs": [],
   "source": [
    "important_features = ['TARGET',\"NFLAG_INSURED_ON_APPROVAL\", \"AMT_CREDIT_x\", \"AMT_INCOME_TOTAL\", \"AMT_REQ_CREDIT_BUREAU_YEAR\",\n",
    "                      \"DAYS_BIRTH_YEARS\", \"DAYS_EMPLOYED_YEARS\",\n",
    "                      \"AMT_ANNUITY_y\", \"DAYS_LAST_PHONE_CHANGE_YEARS\", \"OBS_30_CNT_SOCIAL_CIRCLE\", \"OCCUPATION_TYPE\"]"
   ]
  },
  {
   "cell_type": "code",
   "execution_count": 51,
   "id": "7874c850-7645-41f0-a60d-bfbcf927ac89",
   "metadata": {},
   "outputs": [
    {
     "data": {
      "text/plain": [
       "11"
      ]
     },
     "execution_count": 51,
     "metadata": {},
     "output_type": "execute_result"
    }
   ],
   "source": [
    "len(important_features)"
   ]
  },
  {
   "cell_type": "code",
   "execution_count": 52,
   "id": "c968435b-31a7-42ef-b34a-6370e5531599",
   "metadata": {},
   "outputs": [
    {
     "data": {
      "text/plain": [
       "(1303167, 11)"
      ]
     },
     "execution_count": 52,
     "metadata": {},
     "output_type": "execute_result"
    }
   ],
   "source": [
    "data.shape"
   ]
  },
  {
   "cell_type": "code",
   "execution_count": 53,
   "id": "a3e070b9-1498-4f6d-85b3-5958d9bc3b02",
   "metadata": {},
   "outputs": [
    {
     "data": {
      "text/html": [
       "<div>\n",
       "<style scoped>\n",
       "    .dataframe tbody tr th:only-of-type {\n",
       "        vertical-align: middle;\n",
       "    }\n",
       "\n",
       "    .dataframe tbody tr th {\n",
       "        vertical-align: top;\n",
       "    }\n",
       "\n",
       "    .dataframe thead th {\n",
       "        text-align: right;\n",
       "    }\n",
       "</style>\n",
       "<table border=\"1\" class=\"dataframe\">\n",
       "  <thead>\n",
       "    <tr style=\"text-align: right;\">\n",
       "      <th></th>\n",
       "      <th>TARGET</th>\n",
       "      <th>AMT_INCOME_TOTAL</th>\n",
       "      <th>AMT_CREDIT_x</th>\n",
       "      <th>OCCUPATION_TYPE</th>\n",
       "      <th>OBS_30_CNT_SOCIAL_CIRCLE</th>\n",
       "      <th>AMT_REQ_CREDIT_BUREAU_YEAR</th>\n",
       "      <th>AMT_ANNUITY_y</th>\n",
       "      <th>NFLAG_INSURED_ON_APPROVAL</th>\n",
       "      <th>DAYS_BIRTH_YEARS</th>\n",
       "      <th>DAYS_EMPLOYED_YEARS</th>\n",
       "      <th>DAYS_LAST_PHONE_CHANGE_YEARS</th>\n",
       "    </tr>\n",
       "  </thead>\n",
       "  <tbody>\n",
       "    <tr>\n",
       "      <th>0</th>\n",
       "      <td>1</td>\n",
       "      <td>202500.0</td>\n",
       "      <td>406597.5</td>\n",
       "      <td>Laborers</td>\n",
       "      <td>2.0</td>\n",
       "      <td>1.0</td>\n",
       "      <td>9251.775</td>\n",
       "      <td>0.0</td>\n",
       "      <td>25.9</td>\n",
       "      <td>1.7</td>\n",
       "      <td>3.1</td>\n",
       "    </tr>\n",
       "    <tr>\n",
       "      <th>1</th>\n",
       "      <td>0</td>\n",
       "      <td>270000.0</td>\n",
       "      <td>1293502.5</td>\n",
       "      <td>Core staff</td>\n",
       "      <td>1.0</td>\n",
       "      <td>0.0</td>\n",
       "      <td>98356.995</td>\n",
       "      <td>1.0</td>\n",
       "      <td>45.9</td>\n",
       "      <td>3.3</td>\n",
       "      <td>2.3</td>\n",
       "    </tr>\n",
       "    <tr>\n",
       "      <th>2</th>\n",
       "      <td>0</td>\n",
       "      <td>270000.0</td>\n",
       "      <td>1293502.5</td>\n",
       "      <td>Core staff</td>\n",
       "      <td>1.0</td>\n",
       "      <td>0.0</td>\n",
       "      <td>64567.665</td>\n",
       "      <td>0.0</td>\n",
       "      <td>45.9</td>\n",
       "      <td>3.3</td>\n",
       "      <td>2.3</td>\n",
       "    </tr>\n",
       "    <tr>\n",
       "      <th>3</th>\n",
       "      <td>0</td>\n",
       "      <td>270000.0</td>\n",
       "      <td>1293502.5</td>\n",
       "      <td>Core staff</td>\n",
       "      <td>1.0</td>\n",
       "      <td>0.0</td>\n",
       "      <td>6737.310</td>\n",
       "      <td>1.0</td>\n",
       "      <td>45.9</td>\n",
       "      <td>3.3</td>\n",
       "      <td>2.3</td>\n",
       "    </tr>\n",
       "    <tr>\n",
       "      <th>4</th>\n",
       "      <td>0</td>\n",
       "      <td>67500.0</td>\n",
       "      <td>135000.0</td>\n",
       "      <td>Laborers</td>\n",
       "      <td>0.0</td>\n",
       "      <td>0.0</td>\n",
       "      <td>5357.250</td>\n",
       "      <td>0.0</td>\n",
       "      <td>52.1</td>\n",
       "      <td>0.6</td>\n",
       "      <td>2.2</td>\n",
       "    </tr>\n",
       "  </tbody>\n",
       "</table>\n",
       "</div>"
      ],
      "text/plain": [
       "   TARGET  AMT_INCOME_TOTAL  AMT_CREDIT_x OCCUPATION_TYPE  \\\n",
       "0       1          202500.0      406597.5        Laborers   \n",
       "1       0          270000.0     1293502.5      Core staff   \n",
       "2       0          270000.0     1293502.5      Core staff   \n",
       "3       0          270000.0     1293502.5      Core staff   \n",
       "4       0           67500.0      135000.0        Laborers   \n",
       "\n",
       "   OBS_30_CNT_SOCIAL_CIRCLE  AMT_REQ_CREDIT_BUREAU_YEAR  AMT_ANNUITY_y  \\\n",
       "0                       2.0                         1.0       9251.775   \n",
       "1                       1.0                         0.0      98356.995   \n",
       "2                       1.0                         0.0      64567.665   \n",
       "3                       1.0                         0.0       6737.310   \n",
       "4                       0.0                         0.0       5357.250   \n",
       "\n",
       "   NFLAG_INSURED_ON_APPROVAL  DAYS_BIRTH_YEARS  DAYS_EMPLOYED_YEARS  \\\n",
       "0                        0.0              25.9                  1.7   \n",
       "1                        1.0              45.9                  3.3   \n",
       "2                        0.0              45.9                  3.3   \n",
       "3                        1.0              45.9                  3.3   \n",
       "4                        0.0              52.1                  0.6   \n",
       "\n",
       "   DAYS_LAST_PHONE_CHANGE_YEARS  \n",
       "0                           3.1  \n",
       "1                           2.3  \n",
       "2                           2.3  \n",
       "3                           2.3  \n",
       "4                           2.2  "
      ]
     },
     "execution_count": 53,
     "metadata": {},
     "output_type": "execute_result"
    }
   ],
   "source": [
    "data.head()"
   ]
  },
  {
   "cell_type": "code",
   "execution_count": 54,
   "id": "d2710da6-0c63-4ecd-9a81-7bd8b5e894bd",
   "metadata": {},
   "outputs": [
    {
     "data": {
      "text/plain": [
       "95047"
      ]
     },
     "execution_count": 54,
     "metadata": {},
     "output_type": "execute_result"
    }
   ],
   "source": [
    "data.duplicated().sum()"
   ]
  },
  {
   "cell_type": "code",
   "execution_count": 55,
   "id": "1bef30bb-bb48-4404-b05e-75d74c09d1d8",
   "metadata": {},
   "outputs": [],
   "source": [
    "data.drop_duplicates(inplace = True)"
   ]
  },
  {
   "cell_type": "code",
   "execution_count": 56,
   "id": "e07d6fd4-032b-46f0-82c4-b9f075be9574",
   "metadata": {},
   "outputs": [
    {
     "data": {
      "text/plain": [
       "0"
      ]
     },
     "execution_count": 56,
     "metadata": {},
     "output_type": "execute_result"
    }
   ],
   "source": [
    "data.duplicated().sum()"
   ]
  },
  {
   "cell_type": "code",
   "execution_count": 57,
   "id": "1f438d1b-c4ee-4086-b4fd-cd414f8c36a3",
   "metadata": {},
   "outputs": [
    {
     "name": "stdout",
     "output_type": "stream",
     "text": [
      "<class 'pandas.core.frame.DataFrame'>\n",
      "Index: 1208120 entries, 0 to 1303166\n",
      "Data columns (total 11 columns):\n",
      " #   Column                        Non-Null Count    Dtype  \n",
      "---  ------                        --------------    -----  \n",
      " 0   TARGET                        1208120 non-null  int64  \n",
      " 1   AMT_INCOME_TOTAL              1208120 non-null  float64\n",
      " 2   AMT_CREDIT_x                  1208120 non-null  float64\n",
      " 3   OCCUPATION_TYPE               1208120 non-null  object \n",
      " 4   OBS_30_CNT_SOCIAL_CIRCLE      1208120 non-null  float64\n",
      " 5   AMT_REQ_CREDIT_BUREAU_YEAR    1208120 non-null  float64\n",
      " 6   AMT_ANNUITY_y                 1208120 non-null  float64\n",
      " 7   NFLAG_INSURED_ON_APPROVAL     1208120 non-null  float64\n",
      " 8   DAYS_BIRTH_YEARS              1208120 non-null  float64\n",
      " 9   DAYS_EMPLOYED_YEARS           1208120 non-null  float64\n",
      " 10  DAYS_LAST_PHONE_CHANGE_YEARS  1208120 non-null  float64\n",
      "dtypes: float64(9), int64(1), object(1)\n",
      "memory usage: 110.6+ MB\n"
     ]
    }
   ],
   "source": [
    "data.info()"
   ]
  },
  {
   "cell_type": "code",
   "execution_count": 58,
   "id": "422cf697-f85e-4706-984d-e67fd84c58c2",
   "metadata": {},
   "outputs": [],
   "source": [
    "days_cols = [\"DAYS_BIRTH_YEARS\", \"DAYS_EMPLOYED_YEARS\", \"DAYS_LAST_PHONE_CHANGE_YEARS\"]"
   ]
  },
  {
   "cell_type": "code",
   "execution_count": 59,
   "id": "67b9f025-80b5-485a-ac91-51fe9f053f7d",
   "metadata": {},
   "outputs": [],
   "source": [
    "for col in days_cols:\n",
    "    data[col] = data[col].astype(int)"
   ]
  },
  {
   "cell_type": "code",
   "execution_count": 60,
   "id": "5ec9ce98-43f1-44ae-bf78-17bff89b01e8",
   "metadata": {},
   "outputs": [],
   "source": [
    "le = LabelEncoder()\n",
    "for i in data.select_dtypes(include='object'):\n",
    "    data[i] = le.fit_transform(data[i])"
   ]
  },
  {
   "cell_type": "code",
   "execution_count": 61,
   "id": "3a359ff0-3261-475b-94c0-1004406f2960",
   "metadata": {},
   "outputs": [
    {
     "data": {
      "text/html": [
       "<div>\n",
       "<style scoped>\n",
       "    .dataframe tbody tr th:only-of-type {\n",
       "        vertical-align: middle;\n",
       "    }\n",
       "\n",
       "    .dataframe tbody tr th {\n",
       "        vertical-align: top;\n",
       "    }\n",
       "\n",
       "    .dataframe thead th {\n",
       "        text-align: right;\n",
       "    }\n",
       "</style>\n",
       "<table border=\"1\" class=\"dataframe\">\n",
       "  <thead>\n",
       "    <tr style=\"text-align: right;\">\n",
       "      <th></th>\n",
       "      <th>TARGET</th>\n",
       "      <th>AMT_INCOME_TOTAL</th>\n",
       "      <th>AMT_CREDIT_x</th>\n",
       "      <th>OCCUPATION_TYPE</th>\n",
       "      <th>OBS_30_CNT_SOCIAL_CIRCLE</th>\n",
       "      <th>AMT_REQ_CREDIT_BUREAU_YEAR</th>\n",
       "      <th>AMT_ANNUITY_y</th>\n",
       "      <th>NFLAG_INSURED_ON_APPROVAL</th>\n",
       "      <th>DAYS_BIRTH_YEARS</th>\n",
       "      <th>DAYS_EMPLOYED_YEARS</th>\n",
       "      <th>DAYS_LAST_PHONE_CHANGE_YEARS</th>\n",
       "    </tr>\n",
       "  </thead>\n",
       "  <tbody>\n",
       "    <tr>\n",
       "      <th>0</th>\n",
       "      <td>1</td>\n",
       "      <td>202500.0</td>\n",
       "      <td>406597.5</td>\n",
       "      <td>8</td>\n",
       "      <td>2.0</td>\n",
       "      <td>1.0</td>\n",
       "      <td>9251.775</td>\n",
       "      <td>0.0</td>\n",
       "      <td>25</td>\n",
       "      <td>1</td>\n",
       "      <td>3</td>\n",
       "    </tr>\n",
       "    <tr>\n",
       "      <th>1</th>\n",
       "      <td>0</td>\n",
       "      <td>270000.0</td>\n",
       "      <td>1293502.5</td>\n",
       "      <td>3</td>\n",
       "      <td>1.0</td>\n",
       "      <td>0.0</td>\n",
       "      <td>98356.995</td>\n",
       "      <td>1.0</td>\n",
       "      <td>45</td>\n",
       "      <td>3</td>\n",
       "      <td>2</td>\n",
       "    </tr>\n",
       "    <tr>\n",
       "      <th>2</th>\n",
       "      <td>0</td>\n",
       "      <td>270000.0</td>\n",
       "      <td>1293502.5</td>\n",
       "      <td>3</td>\n",
       "      <td>1.0</td>\n",
       "      <td>0.0</td>\n",
       "      <td>64567.665</td>\n",
       "      <td>0.0</td>\n",
       "      <td>45</td>\n",
       "      <td>3</td>\n",
       "      <td>2</td>\n",
       "    </tr>\n",
       "    <tr>\n",
       "      <th>3</th>\n",
       "      <td>0</td>\n",
       "      <td>270000.0</td>\n",
       "      <td>1293502.5</td>\n",
       "      <td>3</td>\n",
       "      <td>1.0</td>\n",
       "      <td>0.0</td>\n",
       "      <td>6737.310</td>\n",
       "      <td>1.0</td>\n",
       "      <td>45</td>\n",
       "      <td>3</td>\n",
       "      <td>2</td>\n",
       "    </tr>\n",
       "    <tr>\n",
       "      <th>4</th>\n",
       "      <td>0</td>\n",
       "      <td>67500.0</td>\n",
       "      <td>135000.0</td>\n",
       "      <td>8</td>\n",
       "      <td>0.0</td>\n",
       "      <td>0.0</td>\n",
       "      <td>5357.250</td>\n",
       "      <td>0.0</td>\n",
       "      <td>52</td>\n",
       "      <td>0</td>\n",
       "      <td>2</td>\n",
       "    </tr>\n",
       "  </tbody>\n",
       "</table>\n",
       "</div>"
      ],
      "text/plain": [
       "   TARGET  AMT_INCOME_TOTAL  AMT_CREDIT_x  OCCUPATION_TYPE  \\\n",
       "0       1          202500.0      406597.5                8   \n",
       "1       0          270000.0     1293502.5                3   \n",
       "2       0          270000.0     1293502.5                3   \n",
       "3       0          270000.0     1293502.5                3   \n",
       "4       0           67500.0      135000.0                8   \n",
       "\n",
       "   OBS_30_CNT_SOCIAL_CIRCLE  AMT_REQ_CREDIT_BUREAU_YEAR  AMT_ANNUITY_y  \\\n",
       "0                       2.0                         1.0       9251.775   \n",
       "1                       1.0                         0.0      98356.995   \n",
       "2                       1.0                         0.0      64567.665   \n",
       "3                       1.0                         0.0       6737.310   \n",
       "4                       0.0                         0.0       5357.250   \n",
       "\n",
       "   NFLAG_INSURED_ON_APPROVAL  DAYS_BIRTH_YEARS  DAYS_EMPLOYED_YEARS  \\\n",
       "0                        0.0                25                    1   \n",
       "1                        1.0                45                    3   \n",
       "2                        0.0                45                    3   \n",
       "3                        1.0                45                    3   \n",
       "4                        0.0                52                    0   \n",
       "\n",
       "   DAYS_LAST_PHONE_CHANGE_YEARS  \n",
       "0                             3  \n",
       "1                             2  \n",
       "2                             2  \n",
       "3                             2  \n",
       "4                             2  "
      ]
     },
     "execution_count": 61,
     "metadata": {},
     "output_type": "execute_result"
    }
   ],
   "source": [
    "data.head()"
   ]
  },
  {
   "cell_type": "code",
   "execution_count": null,
   "id": "38138ae1-fc11-4913-98d6-33f6cbbc2203",
   "metadata": {},
   "outputs": [],
   "source": []
  },
  {
   "cell_type": "code",
   "execution_count": 63,
   "id": "89925d94-3876-4c82-991d-788395a62b42",
   "metadata": {},
   "outputs": [],
   "source": [
    "import matplotlib.pyplot as plt\n",
    "import seaborn as sns"
   ]
  },
  {
   "cell_type": "code",
   "execution_count": 64,
   "id": "ed24636a-95a7-4a68-b696-a3caed43fc1c",
   "metadata": {},
   "outputs": [
    {
     "data": {
      "image/png": "[encoded data removed]",
      "text/plain": [
       "<Figure size 1500x700 with 2 Axes>"
      ]
     },
     "metadata": {},
     "output_type": "display_data"
    }
   ],
   "source": [
    "data_corr = data.corr()\n",
    "plt.figure(figsize=(15, 7))\n",
    "sns.heatmap(data=data_corr,annot=True, fmt=\".2f\", cmap=\"coolwarm\")\n",
    "plt.show()"
   ]
  },
  {
   "cell_type": "code",
   "execution_count": 65,
   "id": "efd34c9a-90a3-42f5-838f-a85a4fdf5501",
   "metadata": {},
   "outputs": [],
   "source": [
    "features_cols = [\"AMT_INCOME_TOTAL\", \"AMT_CREDIT_x\", \"AMT_ANNUITY_y\"]"
   ]
  },
  {
   "cell_type": "code",
   "execution_count": 66,
   "id": "3b513348-4dbd-4640-be9e-1a68a0790611",
   "metadata": {},
   "outputs": [],
   "source": [
    "mm = MinMaxScaler()\n",
    "data[features_cols] = mm.fit_transform(data[features_cols])"
   ]
  },
  {
   "cell_type": "code",
   "execution_count": 67,
   "id": "9657a367-9c57-45df-9d8b-b7ec17cfc433",
   "metadata": {},
   "outputs": [
    {
     "data": {
      "text/html": [
       "<div>\n",
       "<style scoped>\n",
       "    .dataframe tbody tr th:only-of-type {\n",
       "        vertical-align: middle;\n",
       "    }\n",
       "\n",
       "    .dataframe tbody tr th {\n",
       "        vertical-align: top;\n",
       "    }\n",
       "\n",
       "    .dataframe thead th {\n",
       "        text-align: right;\n",
       "    }\n",
       "</style>\n",
       "<table border=\"1\" class=\"dataframe\">\n",
       "  <thead>\n",
       "    <tr style=\"text-align: right;\">\n",
       "      <th></th>\n",
       "      <th>TARGET</th>\n",
       "      <th>AMT_INCOME_TOTAL</th>\n",
       "      <th>AMT_CREDIT_x</th>\n",
       "      <th>OCCUPATION_TYPE</th>\n",
       "      <th>OBS_30_CNT_SOCIAL_CIRCLE</th>\n",
       "      <th>AMT_REQ_CREDIT_BUREAU_YEAR</th>\n",
       "      <th>AMT_ANNUITY_y</th>\n",
       "      <th>NFLAG_INSURED_ON_APPROVAL</th>\n",
       "      <th>DAYS_BIRTH_YEARS</th>\n",
       "      <th>DAYS_EMPLOYED_YEARS</th>\n",
       "      <th>DAYS_LAST_PHONE_CHANGE_YEARS</th>\n",
       "    </tr>\n",
       "  </thead>\n",
       "  <tbody>\n",
       "    <tr>\n",
       "      <th>0</th>\n",
       "      <td>1</td>\n",
       "      <td>0.001512</td>\n",
       "      <td>0.090287</td>\n",
       "      <td>8</td>\n",
       "      <td>2.0</td>\n",
       "      <td>1.0</td>\n",
       "      <td>0.022130</td>\n",
       "      <td>0.0</td>\n",
       "      <td>25</td>\n",
       "      <td>1</td>\n",
       "      <td>3</td>\n",
       "    </tr>\n",
       "    <tr>\n",
       "      <th>1</th>\n",
       "      <td>0</td>\n",
       "      <td>0.002089</td>\n",
       "      <td>0.311736</td>\n",
       "      <td>3</td>\n",
       "      <td>1.0</td>\n",
       "      <td>0.0</td>\n",
       "      <td>0.235271</td>\n",
       "      <td>1.0</td>\n",
       "      <td>45</td>\n",
       "      <td>3</td>\n",
       "      <td>2</td>\n",
       "    </tr>\n",
       "    <tr>\n",
       "      <th>2</th>\n",
       "      <td>0</td>\n",
       "      <td>0.002089</td>\n",
       "      <td>0.311736</td>\n",
       "      <td>3</td>\n",
       "      <td>1.0</td>\n",
       "      <td>0.0</td>\n",
       "      <td>0.154447</td>\n",
       "      <td>0.0</td>\n",
       "      <td>45</td>\n",
       "      <td>3</td>\n",
       "      <td>2</td>\n",
       "    </tr>\n",
       "    <tr>\n",
       "      <th>3</th>\n",
       "      <td>0</td>\n",
       "      <td>0.002089</td>\n",
       "      <td>0.311736</td>\n",
       "      <td>3</td>\n",
       "      <td>1.0</td>\n",
       "      <td>0.0</td>\n",
       "      <td>0.016116</td>\n",
       "      <td>1.0</td>\n",
       "      <td>45</td>\n",
       "      <td>3</td>\n",
       "      <td>2</td>\n",
       "    </tr>\n",
       "    <tr>\n",
       "      <th>4</th>\n",
       "      <td>0</td>\n",
       "      <td>0.000358</td>\n",
       "      <td>0.022472</td>\n",
       "      <td>8</td>\n",
       "      <td>0.0</td>\n",
       "      <td>0.0</td>\n",
       "      <td>0.012815</td>\n",
       "      <td>0.0</td>\n",
       "      <td>52</td>\n",
       "      <td>0</td>\n",
       "      <td>2</td>\n",
       "    </tr>\n",
       "  </tbody>\n",
       "</table>\n",
       "</div>"
      ],
      "text/plain": [
       "   TARGET  AMT_INCOME_TOTAL  AMT_CREDIT_x  OCCUPATION_TYPE  \\\n",
       "0       1          0.001512      0.090287                8   \n",
       "1       0          0.002089      0.311736                3   \n",
       "2       0          0.002089      0.311736                3   \n",
       "3       0          0.002089      0.311736                3   \n",
       "4       0          0.000358      0.022472                8   \n",
       "\n",
       "   OBS_30_CNT_SOCIAL_CIRCLE  AMT_REQ_CREDIT_BUREAU_YEAR  AMT_ANNUITY_y  \\\n",
       "0                       2.0                         1.0       0.022130   \n",
       "1                       1.0                         0.0       0.235271   \n",
       "2                       1.0                         0.0       0.154447   \n",
       "3                       1.0                         0.0       0.016116   \n",
       "4                       0.0                         0.0       0.012815   \n",
       "\n",
       "   NFLAG_INSURED_ON_APPROVAL  DAYS_BIRTH_YEARS  DAYS_EMPLOYED_YEARS  \\\n",
       "0                        0.0                25                    1   \n",
       "1                        1.0                45                    3   \n",
       "2                        0.0                45                    3   \n",
       "3                        1.0                45                    3   \n",
       "4                        0.0                52                    0   \n",
       "\n",
       "   DAYS_LAST_PHONE_CHANGE_YEARS  \n",
       "0                             3  \n",
       "1                             2  \n",
       "2                             2  \n",
       "3                             2  \n",
       "4                             2  "
      ]
     },
     "execution_count": 67,
     "metadata": {},
     "output_type": "execute_result"
    }
   ],
   "source": [
    "data.head()"
   ]
  },
  {
   "cell_type": "code",
   "execution_count": 68,
   "id": "91475a30-b9da-441f-a2c4-7b5e6d186167",
   "metadata": {},
   "outputs": [],
   "source": [
    "val = data.drop(\"TARGET\", axis=1)\n",
    "tar = data[\"TARGET\"]"
   ]
  },
  {
   "cell_type": "code",
   "execution_count": null,
   "id": "e50387cd-9a7a-4601-8beb-1e0741c0559d",
   "metadata": {},
   "outputs": [],
   "source": [
    "val.value_counts()"
   ]
  },
  {
   "cell_type": "code",
   "execution_count": 69,
   "id": "b6350e58-fedb-489c-bf39-435c1673096f",
   "metadata": {},
   "outputs": [],
   "source": [
    "os = SMOTE(random_state=76)\n",
    "os_val, os_tar = os.fit_resample(val, tar)"
   ]
  },
  {
   "cell_type": "code",
   "execution_count": 70,
   "id": "07fc66d7-de28-4964-a9a2-7fe18c013825",
   "metadata": {},
   "outputs": [
    {
     "data": {
      "text/plain": [
       "TARGET\n",
       "1    1107182\n",
       "0    1107182\n",
       "Name: count, dtype: int64"
      ]
     },
     "execution_count": 70,
     "metadata": {},
     "output_type": "execute_result"
    }
   ],
   "source": [
    "os_tar.value_counts()"
   ]
  },
  {
   "cell_type": "code",
   "execution_count": null,
   "id": "0073a5a0-5458-4866-9202-0a747cf8b609",
   "metadata": {},
   "outputs": [],
   "source": [
    "train_data, test_data, train_lab, test_lab = train_test_split(os_val, os_tar, test_size=0.20, random_state=74)"
   ]
  },
  {
   "cell_type": "code",
   "execution_count": null,
   "id": "f44e71e3-e15c-416b-ae1e-d546b879aa76",
   "metadata": {},
   "outputs": [],
   "source": [
    "# GradientBoostingClassifier\n",
    "\n",
    "gbc = GradientBoostingClassifier()\n",
    "gbc.fit(train_data, train_lab)\n",
    "gbc_train_pred = gbc.predict(train_data)\n",
    "gbc_test_pred = gbc.predict(test_data)"
   ]
  },
  {
   "cell_type": "code",
   "execution_count": null,
   "id": "fd9badc1-c331-4c43-8559-a95188a8b9bf",
   "metadata": {},
   "outputs": [],
   "source": [
    "get_perform(train_lab, gbc_train_pred)"
   ]
  },
  {
   "cell_type": "code",
   "execution_count": null,
   "id": "4382803c-daa6-4e12-af3b-3b4ee2cb9187",
   "metadata": {},
   "outputs": [],
   "source": [
    "get_perform(test_lab, gbc_test_pred)"
   ]
  },
  {
   "cell_type": "code",
   "execution_count": null,
   "id": "a36ed287-7d91-4d6f-81f7-b0e43748be95",
   "metadata": {},
   "outputs": [],
   "source": []
  },
  {
   "cell_type": "code",
   "execution_count": null,
   "id": "6c7cb7d4-556e-41b2-a859-f0b9fbd706d7",
   "metadata": {},
   "outputs": [],
   "source": []
  },
  {
   "cell_type": "code",
   "execution_count": null,
   "id": "ae641b18-94d9-4dd0-b6b5-2aa9acfdcc29",
   "metadata": {},
   "outputs": [],
   "source": []
  }
 ],
 "metadata": {
  "kernelspec": {
   "display_name": "Python 3 (ipykernel)",
   "language": "python",
   "name": "python3"
  },
  "language_info": {
   "codemirror_mode": {
    "name": "ipython",
    "version": 3
   },
   "file_extension": ".py",
   "mimetype": "text/x-python",
   "name": "python",
   "nbconvert_exporter": "python",
   "pygments_lexer": "ipython3",
   "version": "3.12.4"
  }
 },
 "nbformat": 4,
 "nbformat_minor": 5
}
